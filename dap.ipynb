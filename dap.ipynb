{
 "cells": [
  {
   "cell_type": "code",
   "execution_count": 1,
   "metadata": {},
   "outputs": [],
   "source": [
    "import pandas as pd;\n",
    "import numpy as np;\n",
    "import datetime as dt;\n",
    "import seaborn as sns\n",
    "%matplotlib inline\n",
    "from matplotlib import pyplot"
   ]
  },
  {
   "cell_type": "code",
   "execution_count": 2,
   "metadata": {},
   "outputs": [
    {
     "name": "stderr",
     "output_type": "stream",
     "text": [
      "C:\\Users\\rivaldoj\\AppData\\Local\\Temp\\ipykernel_3176\\2048841100.py:1: DtypeWarning: Columns (4) have mixed types. Specify dtype option on import or set low_memory=False.\n",
      "  df = pd.read_csv('./dataset_dap/cafdapativa.csv', delimiter=';')\n"
     ]
    }
   ],
   "source": [
    "df = pd.read_csv('./dataset_dap/cafdapativa.csv', delimiter=';')"
   ]
  },
  {
   "cell_type": "code",
   "execution_count": 7,
   "metadata": {},
   "outputs": [
    {
     "data": {
      "text/plain": [
       "(2508564, 13)"
      ]
     },
     "execution_count": 7,
     "metadata": {},
     "output_type": "execute_result"
    }
   ],
   "source": [
    "df.shape"
   ]
  },
  {
   "cell_type": "code",
   "execution_count": 3,
   "metadata": {},
   "outputs": [],
   "source": [
    "df_paraiba = df.loc[df['UF'] == 'PB']"
   ]
  },
  {
   "cell_type": "code",
   "execution_count": 4,
   "metadata": {},
   "outputs": [
    {
     "data": {
      "text/plain": [
       "(136133, 13)"
      ]
     },
     "execution_count": 4,
     "metadata": {},
     "output_type": "execute_result"
    }
   ],
   "source": [
    "df_paraiba.shape"
   ]
  },
  {
   "cell_type": "code",
   "execution_count": 5,
   "metadata": {},
   "outputs": [
    {
     "name": "stderr",
     "output_type": "stream",
     "text": [
      "C:\\Users\\rivaldoj\\AppData\\Local\\Temp\\ipykernel_3176\\1891888955.py:1: UserWarning: Parsing dates in %d/%m/%Y format when dayfirst=False (the default) was specified. Pass `dayfirst=True` or specify a format to silence this warning.\n",
      "  df_paraiba['DATA_EMISSAO'] = pd.to_datetime(df_paraiba['DATA_EMISSAO'])\n",
      "C:\\Users\\rivaldoj\\AppData\\Local\\Temp\\ipykernel_3176\\1891888955.py:1: SettingWithCopyWarning: \n",
      "A value is trying to be set on a copy of a slice from a DataFrame.\n",
      "Try using .loc[row_indexer,col_indexer] = value instead\n",
      "\n",
      "See the caveats in the documentation: https://pandas.pydata.org/pandas-docs/stable/user_guide/indexing.html#returning-a-view-versus-a-copy\n",
      "  df_paraiba['DATA_EMISSAO'] = pd.to_datetime(df_paraiba['DATA_EMISSAO'])\n"
     ]
    },
    {
     "data": {
      "text/plain": [
       "DAP                             object\n",
       "ENQUADRAMENTO                   object\n",
       "CATEGORIA                       object\n",
       "NOME_T1                         object\n",
       "NOME_T2                         object\n",
       "UF                              object\n",
       "MUNICIPIO                       object\n",
       "DATA_EMISSAO            datetime64[ns]\n",
       "DATA_VALIDADE                   object\n",
       "CPF_EMISSOR                     object\n",
       "NOME_EMISSOR                    object\n",
       "CNPJ_EMISSOR                     int64\n",
       "RAZAO_SOCIAL_EMISSOR            object\n",
       "dtype: object"
      ]
     },
     "execution_count": 5,
     "metadata": {},
     "output_type": "execute_result"
    }
   ],
   "source": [
    "df_paraiba['DATA_EMISSAO'] = pd.to_datetime(df_paraiba['DATA_EMISSAO'])\n",
    "df_paraiba.dtypes"
   ]
  },
  {
   "cell_type": "code",
   "execution_count": null,
   "metadata": {},
   "outputs": [],
   "source": [
    "vendas_agrupadas = vendas_por_dia.groupby('dia_da_semana')[['vendas', 'aumento', 'aceleracao']].mean().round()\n"
   ]
  },
  {
   "cell_type": "code",
   "execution_count": 16,
   "metadata": {},
   "outputs": [
    {
     "data": {
      "text/html": [
       "<div>\n",
       "<style scoped>\n",
       "    .dataframe tbody tr th:only-of-type {\n",
       "        vertical-align: middle;\n",
       "    }\n",
       "\n",
       "    .dataframe tbody tr th {\n",
       "        vertical-align: top;\n",
       "    }\n",
       "\n",
       "    .dataframe thead th {\n",
       "        text-align: right;\n",
       "    }\n",
       "</style>\n",
       "<table border=\"1\" class=\"dataframe\">\n",
       "  <thead>\n",
       "    <tr style=\"text-align: right;\">\n",
       "      <th></th>\n",
       "      <th>DAP</th>\n",
       "    </tr>\n",
       "    <tr>\n",
       "      <th>DATA_EMISSAO</th>\n",
       "      <th></th>\n",
       "    </tr>\n",
       "  </thead>\n",
       "  <tbody>\n",
       "    <tr>\n",
       "      <th>2021-02-08</th>\n",
       "      <td>173</td>\n",
       "    </tr>\n",
       "    <tr>\n",
       "      <th>2021-02-09</th>\n",
       "      <td>174</td>\n",
       "    </tr>\n",
       "    <tr>\n",
       "      <th>2021-02-10</th>\n",
       "      <td>120</td>\n",
       "    </tr>\n",
       "    <tr>\n",
       "      <th>2021-02-11</th>\n",
       "      <td>127</td>\n",
       "    </tr>\n",
       "    <tr>\n",
       "      <th>2021-02-12</th>\n",
       "      <td>84</td>\n",
       "    </tr>\n",
       "    <tr>\n",
       "      <th>...</th>\n",
       "      <td>...</td>\n",
       "    </tr>\n",
       "    <tr>\n",
       "      <th>2023-08-27</th>\n",
       "      <td>2</td>\n",
       "    </tr>\n",
       "    <tr>\n",
       "      <th>2023-08-28</th>\n",
       "      <td>52</td>\n",
       "    </tr>\n",
       "    <tr>\n",
       "      <th>2023-08-29</th>\n",
       "      <td>54</td>\n",
       "    </tr>\n",
       "    <tr>\n",
       "      <th>2023-08-30</th>\n",
       "      <td>33</td>\n",
       "    </tr>\n",
       "    <tr>\n",
       "      <th>2023-08-31</th>\n",
       "      <td>59</td>\n",
       "    </tr>\n",
       "  </tbody>\n",
       "</table>\n",
       "<p>770 rows × 1 columns</p>\n",
       "</div>"
      ],
      "text/plain": [
       "              DAP\n",
       "DATA_EMISSAO     \n",
       "2021-02-08    173\n",
       "2021-02-09    174\n",
       "2021-02-10    120\n",
       "2021-02-11    127\n",
       "2021-02-12     84\n",
       "...           ...\n",
       "2023-08-27      2\n",
       "2023-08-28     52\n",
       "2023-08-29     54\n",
       "2023-08-30     33\n",
       "2023-08-31     59\n",
       "\n",
       "[770 rows x 1 columns]"
      ]
     },
     "execution_count": 16,
     "metadata": {},
     "output_type": "execute_result"
    }
   ],
   "source": [
    "daps_emitidas = df_paraiba.groupby('DATA_EMISSAO')[['DAP']].\n",
    "daps_emitidas"
   ]
  },
  {
   "cell_type": "code",
   "execution_count": 25,
   "metadata": {},
   "outputs": [],
   "source": [
    "daps =  daps_emitidas.index.year.value_counts(ascending=True)"
   ]
  },
  {
   "cell_type": "code",
   "execution_count": 29,
   "metadata": {},
   "outputs": [
    {
     "data": {
      "text/plain": [
       "DATA_EMISSAO\n",
       "2023     84\n",
       "2021    327\n",
       "2022    359\n",
       "Name: count, dtype: int64"
      ]
     },
     "execution_count": 29,
     "metadata": {},
     "output_type": "execute_result"
    }
   ],
   "source": [
    "daps"
   ]
  },
  {
   "cell_type": "code",
   "execution_count": 22,
   "metadata": {},
   "outputs": [
    {
     "data": {
      "image/png": "[encoded data removed]",
      "text/plain": [
       "<Figure size 1800x900 with 1 Axes>"
      ]
     },
     "metadata": {},
     "output_type": "display_data"
    }
   ],
   "source": [
    "sns.set_palette('Accent')\n",
    "sns.set_style('darkgrid')\n",
    "ax = sns.lineplot(x=daps_emitidas.index.year, y='DAP', data=daps_emitidas)\n",
    "ax.figure.set_size_inches(18,9)\n",
    "ax.set_title('Vendas Alucar de 2017 e 2018', loc='left',fontsize=18)\n",
    "ax.set_xlabel('Tempo', fontsize=14)\n",
    "ax.set_xlabel('Vendas(R$)', fontsize=14)\n",
    "ax = ax"
   ]
  },
  {
   "cell_type": "code",
   "execution_count": 11,
   "metadata": {},
   "outputs": [],
   "source": [
    "def grafico_vendas (data):\n",
    "    sns.set_palette('Accent')\n",
    "    sns.set_style('darkgrid')\n",
    "    ax = sns.lineplot(x='DATA_EMISSAO', y='DAP', data=data)\n",
    "    ax.figure.set_size_inches(12,6)\n",
    "    ax.set_title('Vendas Alucar de 2017 e 2018', loc='left',fontsize=18)\n",
    "    ax.set_xlabel('Tempo', fontsize=14)\n",
    "    ax.set_xlabel('Vendas(R$)', fontsize=14)\n",
    "    ax = ax"
   ]
  },
  {
   "cell_type": "code",
   "execution_count": 12,
   "metadata": {},
   "outputs": [
    {
     "ename": "KeyboardInterrupt",
     "evalue": "",
     "output_type": "error",
     "traceback": [
      "\u001b[1;31m---------------------------------------------------------------------------\u001b[0m",
      "\u001b[1;31mKeyboardInterrupt\u001b[0m                         Traceback (most recent call last)",
      "\u001b[1;32mc:\\Users\\rivaldoj\\git\\tcc_especializacao\\dap.ipynb Célula 6\u001b[0m line \u001b[0;36m1\n\u001b[1;32m----> <a href='vscode-notebook-cell:/c%3A/Users/rivaldoj/git/tcc_especializacao/dap.ipynb#W2sZmlsZQ%3D%3D?line=0'>1</a>\u001b[0m grafico_vendas(df)\n",
      "\u001b[1;32mc:\\Users\\rivaldoj\\git\\tcc_especializacao\\dap.ipynb Célula 6\u001b[0m line \u001b[0;36m4\n\u001b[0;32m      <a href='vscode-notebook-cell:/c%3A/Users/rivaldoj/git/tcc_especializacao/dap.ipynb#W2sZmlsZQ%3D%3D?line=1'>2</a>\u001b[0m sns\u001b[39m.\u001b[39mset_palette(\u001b[39m'\u001b[39m\u001b[39mAccent\u001b[39m\u001b[39m'\u001b[39m)\n\u001b[0;32m      <a href='vscode-notebook-cell:/c%3A/Users/rivaldoj/git/tcc_especializacao/dap.ipynb#W2sZmlsZQ%3D%3D?line=2'>3</a>\u001b[0m sns\u001b[39m.\u001b[39mset_style(\u001b[39m'\u001b[39m\u001b[39mdarkgrid\u001b[39m\u001b[39m'\u001b[39m)\n\u001b[1;32m----> <a href='vscode-notebook-cell:/c%3A/Users/rivaldoj/git/tcc_especializacao/dap.ipynb#W2sZmlsZQ%3D%3D?line=3'>4</a>\u001b[0m ax \u001b[39m=\u001b[39m sns\u001b[39m.\u001b[39;49mlineplot(x\u001b[39m=\u001b[39;49m\u001b[39m'\u001b[39;49m\u001b[39mDATA_EMISSAO\u001b[39;49m\u001b[39m'\u001b[39;49m, y\u001b[39m=\u001b[39;49m\u001b[39m'\u001b[39;49m\u001b[39mDAP\u001b[39;49m\u001b[39m'\u001b[39;49m, data\u001b[39m=\u001b[39;49mdata)\n\u001b[0;32m      <a href='vscode-notebook-cell:/c%3A/Users/rivaldoj/git/tcc_especializacao/dap.ipynb#W2sZmlsZQ%3D%3D?line=4'>5</a>\u001b[0m ax\u001b[39m.\u001b[39mfigure\u001b[39m.\u001b[39mset_size_inches(\u001b[39m12\u001b[39m,\u001b[39m6\u001b[39m)\n\u001b[0;32m      <a href='vscode-notebook-cell:/c%3A/Users/rivaldoj/git/tcc_especializacao/dap.ipynb#W2sZmlsZQ%3D%3D?line=5'>6</a>\u001b[0m ax\u001b[39m.\u001b[39mset_title(\u001b[39m'\u001b[39m\u001b[39mVendas Alucar de 2017 e 2018\u001b[39m\u001b[39m'\u001b[39m, loc\u001b[39m=\u001b[39m\u001b[39m'\u001b[39m\u001b[39mleft\u001b[39m\u001b[39m'\u001b[39m,fontsize\u001b[39m=\u001b[39m\u001b[39m18\u001b[39m)\n",
      "File \u001b[1;32m~\\AppData\\Local\\Packages\\PythonSoftwareFoundation.Python.3.11_qbz5n2kfra8p0\\LocalCache\\local-packages\\Python311\\site-packages\\seaborn\\relational.py:645\u001b[0m, in \u001b[0;36mlineplot\u001b[1;34m(data, x, y, hue, size, style, units, palette, hue_order, hue_norm, sizes, size_order, size_norm, dashes, markers, style_order, estimator, errorbar, n_boot, seed, orient, sort, err_style, err_kws, legend, ci, ax, **kwargs)\u001b[0m\n\u001b[0;32m    642\u001b[0m color \u001b[39m=\u001b[39m kwargs\u001b[39m.\u001b[39mpop(\u001b[39m\"\u001b[39m\u001b[39mcolor\u001b[39m\u001b[39m\"\u001b[39m, kwargs\u001b[39m.\u001b[39mpop(\u001b[39m\"\u001b[39m\u001b[39mc\u001b[39m\u001b[39m\"\u001b[39m, \u001b[39mNone\u001b[39;00m))\n\u001b[0;32m    643\u001b[0m kwargs[\u001b[39m\"\u001b[39m\u001b[39mcolor\u001b[39m\u001b[39m\"\u001b[39m] \u001b[39m=\u001b[39m _default_color(ax\u001b[39m.\u001b[39mplot, hue, color, kwargs)\n\u001b[1;32m--> 645\u001b[0m p\u001b[39m.\u001b[39;49mplot(ax, kwargs)\n\u001b[0;32m    646\u001b[0m \u001b[39mreturn\u001b[39;00m ax\n",
      "File \u001b[1;32m~\\AppData\\Local\\Packages\\PythonSoftwareFoundation.Python.3.11_qbz5n2kfra8p0\\LocalCache\\local-packages\\Python311\\site-packages\\seaborn\\relational.py:515\u001b[0m, in \u001b[0;36m_LinePlotter.plot\u001b[1;34m(self, ax, kws)\u001b[0m\n\u001b[0;32m    512\u001b[0m                     obj\u001b[39m.\u001b[39mset_capstyle(line_capstyle)\n\u001b[0;32m    514\u001b[0m \u001b[39m# Finalize the axes details\u001b[39;00m\n\u001b[1;32m--> 515\u001b[0m \u001b[39mself\u001b[39;49m\u001b[39m.\u001b[39;49m_add_axis_labels(ax)\n\u001b[0;32m    516\u001b[0m \u001b[39mif\u001b[39;00m \u001b[39mself\u001b[39m\u001b[39m.\u001b[39mlegend:\n\u001b[0;32m    517\u001b[0m     \u001b[39mself\u001b[39m\u001b[39m.\u001b[39madd_legend_data(ax)\n",
      "File \u001b[1;32m~\\AppData\\Local\\Packages\\PythonSoftwareFoundation.Python.3.11_qbz5n2kfra8p0\\LocalCache\\local-packages\\Python311\\site-packages\\seaborn\\_oldcore.py:1331\u001b[0m, in \u001b[0;36mVectorPlotter._add_axis_labels\u001b[1;34m(self, ax, default_x, default_y)\u001b[0m\n\u001b[0;32m   1329\u001b[0m     ax\u001b[39m.\u001b[39mset_xlabel(\u001b[39mself\u001b[39m\u001b[39m.\u001b[39mvariables\u001b[39m.\u001b[39mget(\u001b[39m\"\u001b[39m\u001b[39mx\u001b[39m\u001b[39m\"\u001b[39m, default_x), visible\u001b[39m=\u001b[39mx_visible)\n\u001b[0;32m   1330\u001b[0m \u001b[39mif\u001b[39;00m \u001b[39mnot\u001b[39;00m ax\u001b[39m.\u001b[39mget_ylabel():\n\u001b[1;32m-> 1331\u001b[0m     y_visible \u001b[39m=\u001b[39m \u001b[39many\u001b[39m(t\u001b[39m.\u001b[39mget_visible() \u001b[39mfor\u001b[39;00m t \u001b[39min\u001b[39;00m ax\u001b[39m.\u001b[39;49mget_yticklabels())\n\u001b[0;32m   1332\u001b[0m     ax\u001b[39m.\u001b[39mset_ylabel(\u001b[39mself\u001b[39m\u001b[39m.\u001b[39mvariables\u001b[39m.\u001b[39mget(\u001b[39m\"\u001b[39m\u001b[39my\u001b[39m\u001b[39m\"\u001b[39m, default_y), visible\u001b[39m=\u001b[39my_visible)\n",
      "File \u001b[1;32m~\\AppData\\Local\\Packages\\PythonSoftwareFoundation.Python.3.11_qbz5n2kfra8p0\\LocalCache\\local-packages\\Python311\\site-packages\\matplotlib\\axes\\_base.py:74\u001b[0m, in \u001b[0;36m_axis_method_wrapper.__set_name__.<locals>.wrapper\u001b[1;34m(self, *args, **kwargs)\u001b[0m\n\u001b[0;32m     73\u001b[0m \u001b[39mdef\u001b[39;00m \u001b[39mwrapper\u001b[39m(\u001b[39mself\u001b[39m, \u001b[39m*\u001b[39margs, \u001b[39m*\u001b[39m\u001b[39m*\u001b[39mkwargs):\n\u001b[1;32m---> 74\u001b[0m     \u001b[39mreturn\u001b[39;00m get_method(\u001b[39mself\u001b[39;49m)(\u001b[39m*\u001b[39;49margs, \u001b[39m*\u001b[39;49m\u001b[39m*\u001b[39;49mkwargs)\n",
      "File \u001b[1;32m~\\AppData\\Local\\Packages\\PythonSoftwareFoundation.Python.3.11_qbz5n2kfra8p0\\LocalCache\\local-packages\\Python311\\site-packages\\matplotlib\\axis.py:1456\u001b[0m, in \u001b[0;36mAxis.get_ticklabels\u001b[1;34m(self, minor, which)\u001b[0m\n\u001b[0;32m   1454\u001b[0m \u001b[39mif\u001b[39;00m minor:\n\u001b[0;32m   1455\u001b[0m     \u001b[39mreturn\u001b[39;00m \u001b[39mself\u001b[39m\u001b[39m.\u001b[39mget_minorticklabels()\n\u001b[1;32m-> 1456\u001b[0m \u001b[39mreturn\u001b[39;00m \u001b[39mself\u001b[39;49m\u001b[39m.\u001b[39;49mget_majorticklabels()\n",
      "File \u001b[1;32m~\\AppData\\Local\\Packages\\PythonSoftwareFoundation.Python.3.11_qbz5n2kfra8p0\\LocalCache\\local-packages\\Python311\\site-packages\\matplotlib\\axis.py:1413\u001b[0m, in \u001b[0;36mAxis.get_majorticklabels\u001b[1;34m(self)\u001b[0m\n\u001b[0;32m   1411\u001b[0m \u001b[39mdef\u001b[39;00m \u001b[39mget_majorticklabels\u001b[39m(\u001b[39mself\u001b[39m):\n\u001b[0;32m   1412\u001b[0m \u001b[39m    \u001b[39m\u001b[39m\"\"\"Return this Axis' major tick labels, as a list of `~.text.Text`.\"\"\"\u001b[39;00m\n\u001b[1;32m-> 1413\u001b[0m     \u001b[39mself\u001b[39;49m\u001b[39m.\u001b[39;49m_update_ticks()\n\u001b[0;32m   1414\u001b[0m     ticks \u001b[39m=\u001b[39m \u001b[39mself\u001b[39m\u001b[39m.\u001b[39mget_major_ticks()\n\u001b[0;32m   1415\u001b[0m     labels1 \u001b[39m=\u001b[39m [tick\u001b[39m.\u001b[39mlabel1 \u001b[39mfor\u001b[39;00m tick \u001b[39min\u001b[39;00m ticks \u001b[39mif\u001b[39;00m tick\u001b[39m.\u001b[39mlabel1\u001b[39m.\u001b[39mget_visible()]\n",
      "File \u001b[1;32m~\\AppData\\Local\\Packages\\PythonSoftwareFoundation.Python.3.11_qbz5n2kfra8p0\\LocalCache\\local-packages\\Python311\\site-packages\\matplotlib\\axis.py:1264\u001b[0m, in \u001b[0;36mAxis._update_ticks\u001b[1;34m(self)\u001b[0m\n\u001b[0;32m   1262\u001b[0m major_locs \u001b[39m=\u001b[39m \u001b[39mself\u001b[39m\u001b[39m.\u001b[39mget_majorticklocs()\n\u001b[0;32m   1263\u001b[0m major_labels \u001b[39m=\u001b[39m \u001b[39mself\u001b[39m\u001b[39m.\u001b[39mmajor\u001b[39m.\u001b[39mformatter\u001b[39m.\u001b[39mformat_ticks(major_locs)\n\u001b[1;32m-> 1264\u001b[0m major_ticks \u001b[39m=\u001b[39m \u001b[39mself\u001b[39;49m\u001b[39m.\u001b[39;49mget_major_ticks(\u001b[39mlen\u001b[39;49m(major_locs))\n\u001b[0;32m   1265\u001b[0m \u001b[39mself\u001b[39m\u001b[39m.\u001b[39mmajor\u001b[39m.\u001b[39mformatter\u001b[39m.\u001b[39mset_locs(major_locs)\n\u001b[0;32m   1266\u001b[0m \u001b[39mfor\u001b[39;00m tick, loc, label \u001b[39min\u001b[39;00m \u001b[39mzip\u001b[39m(major_ticks, major_locs, major_labels):\n",
      "File \u001b[1;32m~\\AppData\\Local\\Packages\\PythonSoftwareFoundation.Python.3.11_qbz5n2kfra8p0\\LocalCache\\local-packages\\Python311\\site-packages\\matplotlib\\axis.py:1602\u001b[0m, in \u001b[0;36mAxis.get_major_ticks\u001b[1;34m(self, numticks)\u001b[0m\n\u001b[0;32m   1598\u001b[0m     numticks \u001b[39m=\u001b[39m \u001b[39mlen\u001b[39m(\u001b[39mself\u001b[39m\u001b[39m.\u001b[39mget_majorticklocs())\n\u001b[0;32m   1600\u001b[0m \u001b[39mwhile\u001b[39;00m \u001b[39mlen\u001b[39m(\u001b[39mself\u001b[39m\u001b[39m.\u001b[39mmajorTicks) \u001b[39m<\u001b[39m numticks:\n\u001b[0;32m   1601\u001b[0m     \u001b[39m# Update the new tick label properties from the old.\u001b[39;00m\n\u001b[1;32m-> 1602\u001b[0m     tick \u001b[39m=\u001b[39m \u001b[39mself\u001b[39;49m\u001b[39m.\u001b[39;49m_get_tick(major\u001b[39m=\u001b[39;49m\u001b[39mTrue\u001b[39;49;00m)\n\u001b[0;32m   1603\u001b[0m     \u001b[39mself\u001b[39m\u001b[39m.\u001b[39mmajorTicks\u001b[39m.\u001b[39mappend(tick)\n\u001b[0;32m   1604\u001b[0m     \u001b[39mself\u001b[39m\u001b[39m.\u001b[39m_copy_tick_props(\u001b[39mself\u001b[39m\u001b[39m.\u001b[39mmajorTicks[\u001b[39m0\u001b[39m], tick)\n",
      "File \u001b[1;32m~\\AppData\\Local\\Packages\\PythonSoftwareFoundation.Python.3.11_qbz5n2kfra8p0\\LocalCache\\local-packages\\Python311\\site-packages\\matplotlib\\axis.py:1551\u001b[0m, in \u001b[0;36mAxis._get_tick\u001b[1;34m(self, major)\u001b[0m\n\u001b[0;32m   1547\u001b[0m     \u001b[39mraise\u001b[39;00m \u001b[39mNotImplementedError\u001b[39;00m(\n\u001b[0;32m   1548\u001b[0m         \u001b[39mf\u001b[39m\u001b[39m\"\u001b[39m\u001b[39mThe Axis subclass \u001b[39m\u001b[39m{\u001b[39;00m\u001b[39mself\u001b[39m\u001b[39m.\u001b[39m\u001b[39m__class__\u001b[39m\u001b[39m.\u001b[39m\u001b[39m__name__\u001b[39m\u001b[39m}\u001b[39;00m\u001b[39m must define \u001b[39m\u001b[39m\"\u001b[39m\n\u001b[0;32m   1549\u001b[0m         \u001b[39m\"\u001b[39m\u001b[39m_tick_class or reimplement _get_tick()\u001b[39m\u001b[39m\"\u001b[39m)\n\u001b[0;32m   1550\u001b[0m tick_kw \u001b[39m=\u001b[39m \u001b[39mself\u001b[39m\u001b[39m.\u001b[39m_major_tick_kw \u001b[39mif\u001b[39;00m major \u001b[39melse\u001b[39;00m \u001b[39mself\u001b[39m\u001b[39m.\u001b[39m_minor_tick_kw\n\u001b[1;32m-> 1551\u001b[0m \u001b[39mreturn\u001b[39;00m \u001b[39mself\u001b[39;49m\u001b[39m.\u001b[39;49m_tick_class(\u001b[39mself\u001b[39;49m\u001b[39m.\u001b[39;49maxes, \u001b[39m0\u001b[39;49m, major\u001b[39m=\u001b[39;49mmajor, \u001b[39m*\u001b[39;49m\u001b[39m*\u001b[39;49mtick_kw)\n",
      "File \u001b[1;32m~\\AppData\\Local\\Packages\\PythonSoftwareFoundation.Python.3.11_qbz5n2kfra8p0\\LocalCache\\local-packages\\Python311\\site-packages\\matplotlib\\axis.py:478\u001b[0m, in \u001b[0;36mYTick.__init__\u001b[1;34m(self, *args, **kwargs)\u001b[0m\n\u001b[0;32m    477\u001b[0m \u001b[39mdef\u001b[39;00m \u001b[39m__init__\u001b[39m(\u001b[39mself\u001b[39m, \u001b[39m*\u001b[39margs, \u001b[39m*\u001b[39m\u001b[39m*\u001b[39mkwargs):\n\u001b[1;32m--> 478\u001b[0m     \u001b[39msuper\u001b[39;49m()\u001b[39m.\u001b[39;49m\u001b[39m__init__\u001b[39;49m(\u001b[39m*\u001b[39;49margs, \u001b[39m*\u001b[39;49m\u001b[39m*\u001b[39;49mkwargs)\n\u001b[0;32m    479\u001b[0m     \u001b[39m# x in axes coords, y in data coords\u001b[39;00m\n\u001b[0;32m    480\u001b[0m     ax \u001b[39m=\u001b[39m \u001b[39mself\u001b[39m\u001b[39m.\u001b[39maxes\n",
      "File \u001b[1;32m~\\AppData\\Local\\Packages\\PythonSoftwareFoundation.Python.3.11_qbz5n2kfra8p0\\LocalCache\\local-packages\\Python311\\site-packages\\matplotlib\\axis.py:156\u001b[0m, in \u001b[0;36mTick.__init__\u001b[1;34m(self, axes, loc, size, width, color, tickdir, pad, labelsize, labelcolor, zorder, gridOn, tick1On, tick2On, label1On, label2On, major, labelrotation, grid_color, grid_linestyle, grid_linewidth, grid_alpha, **kwargs)\u001b[0m\n\u001b[0;32m    153\u001b[0m     grid_alpha \u001b[39m=\u001b[39m mpl\u001b[39m.\u001b[39mrcParams[\u001b[39m\"\u001b[39m\u001b[39mgrid.alpha\u001b[39m\u001b[39m\"\u001b[39m]\n\u001b[0;32m    154\u001b[0m grid_kw \u001b[39m=\u001b[39m {k[\u001b[39m5\u001b[39m:]: v \u001b[39mfor\u001b[39;00m k, v \u001b[39min\u001b[39;00m kwargs\u001b[39m.\u001b[39mitems()}\n\u001b[1;32m--> 156\u001b[0m \u001b[39mself\u001b[39m\u001b[39m.\u001b[39mtick1line \u001b[39m=\u001b[39m mlines\u001b[39m.\u001b[39;49mLine2D(\n\u001b[0;32m    157\u001b[0m     [], [],\n\u001b[0;32m    158\u001b[0m     color\u001b[39m=\u001b[39;49mcolor, linestyle\u001b[39m=\u001b[39;49m\u001b[39m\"\u001b[39;49m\u001b[39mnone\u001b[39;49m\u001b[39m\"\u001b[39;49m, zorder\u001b[39m=\u001b[39;49mzorder, visible\u001b[39m=\u001b[39;49mtick1On,\n\u001b[0;32m    159\u001b[0m     markeredgecolor\u001b[39m=\u001b[39;49mcolor, markersize\u001b[39m=\u001b[39;49msize, markeredgewidth\u001b[39m=\u001b[39;49mwidth,\n\u001b[0;32m    160\u001b[0m )\n\u001b[0;32m    161\u001b[0m \u001b[39mself\u001b[39m\u001b[39m.\u001b[39mtick2line \u001b[39m=\u001b[39m mlines\u001b[39m.\u001b[39mLine2D(\n\u001b[0;32m    162\u001b[0m     [], [],\n\u001b[0;32m    163\u001b[0m     color\u001b[39m=\u001b[39mcolor, linestyle\u001b[39m=\u001b[39m\u001b[39m\"\u001b[39m\u001b[39mnone\u001b[39m\u001b[39m\"\u001b[39m, zorder\u001b[39m=\u001b[39mzorder, visible\u001b[39m=\u001b[39mtick2On,\n\u001b[0;32m    164\u001b[0m     markeredgecolor\u001b[39m=\u001b[39mcolor, markersize\u001b[39m=\u001b[39msize, markeredgewidth\u001b[39m=\u001b[39mwidth,\n\u001b[0;32m    165\u001b[0m )\n\u001b[0;32m    166\u001b[0m \u001b[39mself\u001b[39m\u001b[39m.\u001b[39mgridline \u001b[39m=\u001b[39m mlines\u001b[39m.\u001b[39mLine2D(\n\u001b[0;32m    167\u001b[0m     [], [],\n\u001b[0;32m    168\u001b[0m     color\u001b[39m=\u001b[39mgrid_color, alpha\u001b[39m=\u001b[39mgrid_alpha, visible\u001b[39m=\u001b[39mgridOn,\n\u001b[0;32m    169\u001b[0m     linestyle\u001b[39m=\u001b[39mgrid_linestyle, linewidth\u001b[39m=\u001b[39mgrid_linewidth, marker\u001b[39m=\u001b[39m\u001b[39m\"\u001b[39m\u001b[39m\"\u001b[39m,\n\u001b[0;32m    170\u001b[0m     \u001b[39m*\u001b[39m\u001b[39m*\u001b[39mgrid_kw,\n\u001b[0;32m    171\u001b[0m )\n",
      "File \u001b[1;32m~\\AppData\\Local\\Packages\\PythonSoftwareFoundation.Python.3.11_qbz5n2kfra8p0\\LocalCache\\local-packages\\Python311\\site-packages\\matplotlib\\_api\\deprecation.py:454\u001b[0m, in \u001b[0;36mmake_keyword_only.<locals>.wrapper\u001b[1;34m(*args, **kwargs)\u001b[0m\n\u001b[0;32m    448\u001b[0m \u001b[39mif\u001b[39;00m \u001b[39mlen\u001b[39m(args) \u001b[39m>\u001b[39m name_idx:\n\u001b[0;32m    449\u001b[0m     warn_deprecated(\n\u001b[0;32m    450\u001b[0m         since, message\u001b[39m=\u001b[39m\u001b[39m\"\u001b[39m\u001b[39mPassing the \u001b[39m\u001b[39m%(name)s\u001b[39;00m\u001b[39m \u001b[39m\u001b[39m%(obj_type)s\u001b[39;00m\u001b[39m \u001b[39m\u001b[39m\"\u001b[39m\n\u001b[0;32m    451\u001b[0m         \u001b[39m\"\u001b[39m\u001b[39mpositionally is deprecated since Matplotlib \u001b[39m\u001b[39m%(since)s\u001b[39;00m\u001b[39m; the \u001b[39m\u001b[39m\"\u001b[39m\n\u001b[0;32m    452\u001b[0m         \u001b[39m\"\u001b[39m\u001b[39mparameter will become keyword-only \u001b[39m\u001b[39m%(removal)s\u001b[39;00m\u001b[39m.\u001b[39m\u001b[39m\"\u001b[39m,\n\u001b[0;32m    453\u001b[0m         name\u001b[39m=\u001b[39mname, obj_type\u001b[39m=\u001b[39m\u001b[39mf\u001b[39m\u001b[39m\"\u001b[39m\u001b[39mparameter of \u001b[39m\u001b[39m{\u001b[39;00mfunc\u001b[39m.\u001b[39m\u001b[39m__name__\u001b[39m\u001b[39m}\u001b[39;00m\u001b[39m()\u001b[39m\u001b[39m\"\u001b[39m)\n\u001b[1;32m--> 454\u001b[0m \u001b[39mreturn\u001b[39;00m func(\u001b[39m*\u001b[39;49margs, \u001b[39m*\u001b[39;49m\u001b[39m*\u001b[39;49mkwargs)\n",
      "File \u001b[1;32m~\\AppData\\Local\\Packages\\PythonSoftwareFoundation.Python.3.11_qbz5n2kfra8p0\\LocalCache\\local-packages\\Python311\\site-packages\\matplotlib\\lines.py:393\u001b[0m, in \u001b[0;36mLine2D.__init__\u001b[1;34m(self, xdata, ydata, linewidth, linestyle, color, gapcolor, marker, markersize, markeredgewidth, markeredgecolor, markerfacecolor, markerfacecoloralt, fillstyle, antialiased, dash_capstyle, solid_capstyle, dash_joinstyle, solid_joinstyle, pickradius, drawstyle, markevery, **kwargs)\u001b[0m\n\u001b[0;32m    389\u001b[0m \u001b[39mself\u001b[39m\u001b[39m.\u001b[39mset_markeredgewidth(markeredgewidth)\n\u001b[0;32m    391\u001b[0m \u001b[39m# update kwargs before updating data to give the caller a\u001b[39;00m\n\u001b[0;32m    392\u001b[0m \u001b[39m# chance to init axes (and hence unit support)\u001b[39;00m\n\u001b[1;32m--> 393\u001b[0m \u001b[39mself\u001b[39;49m\u001b[39m.\u001b[39;49m_internal_update(kwargs)\n\u001b[0;32m    394\u001b[0m \u001b[39mself\u001b[39m\u001b[39m.\u001b[39m_pickradius \u001b[39m=\u001b[39m pickradius\n\u001b[0;32m    395\u001b[0m \u001b[39mself\u001b[39m\u001b[39m.\u001b[39mind_offset \u001b[39m=\u001b[39m \u001b[39m0\u001b[39m\n",
      "File \u001b[1;32m~\\AppData\\Local\\Packages\\PythonSoftwareFoundation.Python.3.11_qbz5n2kfra8p0\\LocalCache\\local-packages\\Python311\\site-packages\\matplotlib\\artist.py:1223\u001b[0m, in \u001b[0;36mArtist._internal_update\u001b[1;34m(self, kwargs)\u001b[0m\n\u001b[0;32m   1216\u001b[0m \u001b[39mdef\u001b[39;00m \u001b[39m_internal_update\u001b[39m(\u001b[39mself\u001b[39m, kwargs):\n\u001b[0;32m   1217\u001b[0m \u001b[39m    \u001b[39m\u001b[39m\"\"\"\u001b[39;00m\n\u001b[0;32m   1218\u001b[0m \u001b[39m    Update artist properties without prenormalizing them, but generating\u001b[39;00m\n\u001b[0;32m   1219\u001b[0m \u001b[39m    errors as if calling `set`.\u001b[39;00m\n\u001b[0;32m   1220\u001b[0m \n\u001b[0;32m   1221\u001b[0m \u001b[39m    The lack of prenormalization is to maintain backcompatibility.\u001b[39;00m\n\u001b[0;32m   1222\u001b[0m \u001b[39m    \"\"\"\u001b[39;00m\n\u001b[1;32m-> 1223\u001b[0m     \u001b[39mreturn\u001b[39;00m \u001b[39mself\u001b[39;49m\u001b[39m.\u001b[39;49m_update_props(\n\u001b[0;32m   1224\u001b[0m         kwargs, \u001b[39m\"\u001b[39;49m\u001b[39m{cls.__name__}\u001b[39;49;00m\u001b[39m.set() got an unexpected keyword argument \u001b[39;49m\u001b[39m\"\u001b[39;49m\n\u001b[0;32m   1225\u001b[0m         \u001b[39m\"\u001b[39;49m\u001b[39m{prop_name!r}\u001b[39;49;00m\u001b[39m\"\u001b[39;49m)\n",
      "File \u001b[1;32m~\\AppData\\Local\\Packages\\PythonSoftwareFoundation.Python.3.11_qbz5n2kfra8p0\\LocalCache\\local-packages\\Python311\\site-packages\\matplotlib\\artist.py:1199\u001b[0m, in \u001b[0;36mArtist._update_props\u001b[1;34m(self, props, errfmt)\u001b[0m\n\u001b[0;32m   1196\u001b[0m             \u001b[39mif\u001b[39;00m \u001b[39mnot\u001b[39;00m \u001b[39mcallable\u001b[39m(func):\n\u001b[0;32m   1197\u001b[0m                 \u001b[39mraise\u001b[39;00m \u001b[39mAttributeError\u001b[39;00m(\n\u001b[0;32m   1198\u001b[0m                     errfmt\u001b[39m.\u001b[39mformat(\u001b[39mcls\u001b[39m\u001b[39m=\u001b[39m\u001b[39mtype\u001b[39m(\u001b[39mself\u001b[39m), prop_name\u001b[39m=\u001b[39mk))\n\u001b[1;32m-> 1199\u001b[0m             ret\u001b[39m.\u001b[39mappend(func(v))\n\u001b[0;32m   1200\u001b[0m \u001b[39mif\u001b[39;00m ret:\n\u001b[0;32m   1201\u001b[0m     \u001b[39mself\u001b[39m\u001b[39m.\u001b[39mpchanged()\n",
      "File \u001b[1;32m~\\AppData\\Local\\Packages\\PythonSoftwareFoundation.Python.3.11_qbz5n2kfra8p0\\LocalCache\\local-packages\\Python311\\site-packages\\matplotlib\\artist.py:1130\u001b[0m, in \u001b[0;36mArtist.set_zorder\u001b[1;34m(self, level)\u001b[0m\n\u001b[0;32m   1128\u001b[0m \u001b[39mself\u001b[39m\u001b[39m.\u001b[39mzorder \u001b[39m=\u001b[39m level\n\u001b[0;32m   1129\u001b[0m \u001b[39mself\u001b[39m\u001b[39m.\u001b[39mpchanged()\n\u001b[1;32m-> 1130\u001b[0m \u001b[39mself\u001b[39;49m\u001b[39m.\u001b[39;49mstale \u001b[39m=\u001b[39m \u001b[39mTrue\u001b[39;00m\n",
      "File \u001b[1;32m~\\AppData\\Local\\Packages\\PythonSoftwareFoundation.Python.3.11_qbz5n2kfra8p0\\LocalCache\\local-packages\\Python311\\site-packages\\matplotlib\\artist.py:319\u001b[0m, in \u001b[0;36mArtist.stale\u001b[1;34m(self, val)\u001b[0m\n\u001b[0;32m    313\u001b[0m \u001b[39m    \u001b[39m\u001b[39m\"\"\"\u001b[39;00m\n\u001b[0;32m    314\u001b[0m \u001b[39m    Whether the artist is 'stale' and needs to be re-drawn for the output\u001b[39;00m\n\u001b[0;32m    315\u001b[0m \u001b[39m    to match the internal state of the artist.\u001b[39;00m\n\u001b[0;32m    316\u001b[0m \u001b[39m    \"\"\"\u001b[39;00m\n\u001b[0;32m    317\u001b[0m     \u001b[39mreturn\u001b[39;00m \u001b[39mself\u001b[39m\u001b[39m.\u001b[39m_stale\n\u001b[1;32m--> 319\u001b[0m \u001b[39m@stale\u001b[39m\u001b[39m.\u001b[39msetter\n\u001b[0;32m    320\u001b[0m \u001b[39mdef\u001b[39;00m \u001b[39mstale\u001b[39m(\u001b[39mself\u001b[39m, val):\n\u001b[0;32m    321\u001b[0m     \u001b[39mself\u001b[39m\u001b[39m.\u001b[39m_stale \u001b[39m=\u001b[39m val\n\u001b[0;32m    323\u001b[0m     \u001b[39m# if the artist is animated it does not take normal part in the\u001b[39;00m\n\u001b[0;32m    324\u001b[0m     \u001b[39m# draw stack and is not expected to be drawn as part of the normal\u001b[39;00m\n\u001b[0;32m    325\u001b[0m     \u001b[39m# draw loop (when not saving) so do not propagate this change\u001b[39;00m\n",
      "\u001b[1;31mKeyboardInterrupt\u001b[0m: "
     ]
    }
   ],
   "source": [
    "grafico_vendas(df)"
   ]
  },
  {
   "cell_type": "code",
   "execution_count": 4,
   "metadata": {},
   "outputs": [
    {
     "name": "stdout",
     "output_type": "stream",
     "text": [
      "Os 10 maiores emissores de DAP do Brasil: '\n",
      "'UF\n",
      "BA    518351\n",
      "CE    314926\n",
      "PE    214328\n",
      "PI    186336\n",
      "MG    181547\n",
      "RS    168062\n",
      "MA    158201\n",
      "PB    136133\n",
      "PR     92127\n",
      "PA     72781\n",
      "Name: count, dtype: int64\n"
     ]
    }
   ],
   "source": [
    "print(f\"Os 10 maiores emissores de DAP do Brasil: '\\n'{df['UF'].value_counts(ascending=False).head(10)}\")"
   ]
  },
  {
   "cell_type": "code",
   "execution_count": 5,
   "metadata": {},
   "outputs": [
    {
     "data": {
      "text/plain": [
       "CATEGORIA\n",
       "Demais agricultores familiares                                                      2230849\n",
       "Assentado/a pelo PNRA                                                                 97559\n",
       "Pescador/a                                                                            55119\n",
       "Extrativista                                                                          44665\n",
       "Quilombola                                                                            32278\n",
       "Indígena                                                                              25457\n",
       "Aquicultor/a                                                                          11171\n",
       "Beneficiário/a do PNCF                                                                 9022\n",
       "Silvicultor/a                                                                          2444\n",
       "Name: count, dtype: int64"
      ]
     },
     "execution_count": 5,
     "metadata": {},
     "output_type": "execute_result"
    }
   ],
   "source": [
    "df['CATEGORIA'].value_counts()"
   ]
  },
  {
   "cell_type": "code",
   "execution_count": 6,
   "metadata": {},
   "outputs": [
    {
     "data": {
      "text/plain": [
       "ENQUADRAMENTO\n",
       "B                       1675402\n",
       "Variável                 786806\n",
       "A                         41024\n",
       "A/C                        5332\n",
       "Name: count, dtype: int64"
      ]
     },
     "execution_count": 6,
     "metadata": {},
     "output_type": "execute_result"
    }
   ],
   "source": [
    "df['ENQUADRAMENTO'].value_counts()"
   ]
  },
  {
   "cell_type": "code",
   "execution_count": 7,
   "metadata": {},
   "outputs": [
    {
     "data": {
      "text/plain": [
       "ENQUADRAMENTO\n",
       "A/C                     0.003004\n",
       "A                       0.027480\n",
       "Variável                0.068940\n",
       "B                       0.900575\n",
       "Name: proportion, dtype: float64"
      ]
     },
     "execution_count": 7,
     "metadata": {},
     "output_type": "execute_result"
    }
   ],
   "source": [
    "df.loc[df['UF'] == 'PB']['ENQUADRAMENTO'].value_counts(ascending=True, normalize=True)"
   ]
  },
  {
   "cell_type": "code",
   "execution_count": 8,
   "metadata": {},
   "outputs": [
    {
     "data": {
      "text/plain": [
       "RAZAO_SOCIAL_EMISSOR\n",
       "EMPRESA PARAIBANA DE PESQUISA, EXTENSÃO RURAL E REGULARIZAÇÃO FUNDIÁRIA                                 0.712\n",
       "Sindicato dos Trabalhadores na Agricultura Familiar de Zabele, Monteiro e São Sebastião do Umbuzeiro    0.014\n",
       "SINDICATO DOS TRABALHADORES RURAIS DE BANANEIRAS                                                        0.009\n",
       "SINDICATO DOS TRABALHADORES RURAIS DE ESPERANCA                                                         0.008\n",
       "SINDICATO DOS TRABALHADORES RURAIS DE MASSARANDUBA                                                      0.007\n",
       "SECRETARIA DE ESTADO DO DESENVOLVIMENTO DA AGROPECURIA E DA PESCA                                       0.007\n",
       "SINDICATO DOS TRABALHADORES RURAIS DE REMIGIO                                                           0.007\n",
       "SINDICATO DOS TRABALHADORES RURAIS DE SAO JOSE DOS RAMOS -PB                                            0.006\n",
       "SINDICATO DOS TRABALHADORES RURAIS DE CUITE                                                             0.006\n",
       "SINDICATO DOS TRABALHADORES RURAIS DE CASSERENGUE                                                       0.006\n",
       "Name: proportion, dtype: float64"
      ]
     },
     "execution_count": 8,
     "metadata": {},
     "output_type": "execute_result"
    }
   ],
   "source": [
    "df.loc[df['UF'] == 'PB']['RAZAO_SOCIAL_EMISSOR'].value_counts(ascending=False, normalize=True).head(10).round(3)"
   ]
  },
  {
   "cell_type": "code",
   "execution_count": 9,
   "metadata": {},
   "outputs": [
    {
     "data": {
      "text/plain": [
       "Index(['DAP', 'ENQUADRAMENTO', 'CATEGORIA', 'NOME_T1', 'NOME_T2', 'UF',\n",
       "       'MUNICIPIO', 'DATA_EMISSAO', 'DATA_VALIDADE', 'CPF_EMISSOR',\n",
       "       'NOME_EMISSOR', 'CNPJ_EMISSOR', 'RAZAO_SOCIAL_EMISSOR'],\n",
       "      dtype='object')"
      ]
     },
     "execution_count": 9,
     "metadata": {},
     "output_type": "execute_result"
    }
   ],
   "source": [
    "df.columns"
   ]
  },
  {
   "cell_type": "code",
   "execution_count": 10,
   "metadata": {},
   "outputs": [],
   "source": [
    "df['DATA_EMISSAO'] = pd.to_datetime(df['DATA_EMISSAO'], format='%d/%m/%Y' )\n",
    "df['DATA_VALIDADE'] = pd.to_datetime(df['DATA_VALIDADE'], format='%d/%m/%Y')"
   ]
  },
  {
   "cell_type": "code",
   "execution_count": 11,
   "metadata": {},
   "outputs": [
    {
     "name": "stdout",
     "output_type": "stream",
     "text": [
      "<class 'pandas.core.frame.DataFrame'>\n",
      "RangeIndex: 2508564 entries, 0 to 2508563\n",
      "Data columns (total 13 columns):\n",
      " #   Column                Dtype         \n",
      "---  ------                -----         \n",
      " 0   DAP                   object        \n",
      " 1   ENQUADRAMENTO         object        \n",
      " 2   CATEGORIA             object        \n",
      " 3   NOME_T1               object        \n",
      " 4   NOME_T2               object        \n",
      " 5   UF                    object        \n",
      " 6   MUNICIPIO             object        \n",
      " 7   DATA_EMISSAO          datetime64[ns]\n",
      " 8   DATA_VALIDADE         datetime64[ns]\n",
      " 9   CPF_EMISSOR           object        \n",
      " 10  NOME_EMISSOR          object        \n",
      " 11  CNPJ_EMISSOR          int64         \n",
      " 12  RAZAO_SOCIAL_EMISSOR  object        \n",
      "dtypes: datetime64[ns](2), int64(1), object(10)\n",
      "memory usage: 248.8+ MB\n"
     ]
    }
   ],
   "source": [
    "df.info()"
   ]
  },
  {
   "cell_type": "code",
   "execution_count": 12,
   "metadata": {},
   "outputs": [
    {
     "data": {
      "text/plain": [
       "0         2021-11-22\n",
       "1         2022-07-21\n",
       "2         2021-12-21\n",
       "3         2022-05-13\n",
       "4         2022-01-12\n",
       "             ...    \n",
       "2508559   2022-08-25\n",
       "2508560   2022-08-08\n",
       "2508561   2022-03-25\n",
       "2508562   2021-11-16\n",
       "2508563   2022-03-21\n",
       "Name: DATA_EMISSAO, Length: 2508564, dtype: datetime64[ns]"
      ]
     },
     "execution_count": 12,
     "metadata": {},
     "output_type": "execute_result"
    }
   ],
   "source": [
    "df['DATA_EMISSAO']"
   ]
  },
  {
   "cell_type": "code",
   "execution_count": 13,
   "metadata": {},
   "outputs": [],
   "source": [
    "df_escolas = pd.read_csv('./dataset_escolas/tabela_lista_escolas.csv', delimiter=';')"
   ]
  },
  {
   "cell_type": "code",
   "execution_count": 14,
   "metadata": {},
   "outputs": [
    {
     "data": {
      "text/html": [
       "<div>\n",
       "<style scoped>\n",
       "    .dataframe tbody tr th:only-of-type {\n",
       "        vertical-align: middle;\n",
       "    }\n",
       "\n",
       "    .dataframe tbody tr th {\n",
       "        vertical-align: top;\n",
       "    }\n",
       "\n",
       "    .dataframe thead th {\n",
       "        text-align: right;\n",
       "    }\n",
       "</style>\n",
       "<table border=\"1\" class=\"dataframe\">\n",
       "  <thead>\n",
       "    <tr style=\"text-align: right;\">\n",
       "      <th></th>\n",
       "      <th>Restrição de Atendimento</th>\n",
       "      <th>Escola</th>\n",
       "      <th>Código INEP</th>\n",
       "      <th>UF</th>\n",
       "      <th>Município</th>\n",
       "      <th>Localização</th>\n",
       "      <th>Localidade Diferenciada</th>\n",
       "      <th>Categoria Administrativa</th>\n",
       "      <th>Endereço</th>\n",
       "      <th>Telefone</th>\n",
       "      <th>Dependência Administrativa</th>\n",
       "      <th>Categoria Escola Privada</th>\n",
       "      <th>Conveniada Poder Público</th>\n",
       "      <th>Regulamentação pelo Conselho de Educação</th>\n",
       "      <th>Porte da Escola</th>\n",
       "      <th>Etapas e Modalidade de Ensino Oferecidas</th>\n",
       "      <th>Outras Ofertas Educacionais</th>\n",
       "      <th>Latitude</th>\n",
       "      <th>Longitude</th>\n",
       "    </tr>\n",
       "  </thead>\n",
       "  <tbody>\n",
       "    <tr>\n",
       "      <th>0</th>\n",
       "      <td>ESCOLA EM FUNCIONAMENTO E SEM RESTRIÇÃO DE ATE...</td>\n",
       "      <td>EMEF JOAO ALVES</td>\n",
       "      <td>25000012</td>\n",
       "      <td>PB</td>\n",
       "      <td>Araruna</td>\n",
       "      <td>Urbana</td>\n",
       "      <td>A escola não está em área de localização difer...</td>\n",
       "      <td>Pública</td>\n",
       "      <td>RUA CORONEL PEDRO TARGINO, 264 CENTRO. 58233-0...</td>\n",
       "      <td>(83) 996051166</td>\n",
       "      <td>Municipal</td>\n",
       "      <td>Não Informado</td>\n",
       "      <td>Não</td>\n",
       "      <td>Sim</td>\n",
       "      <td>Entre 501 e 1000 matrículas de escolarização</td>\n",
       "      <td>Ensino Fundamental, Educação de Jovens Adultos</td>\n",
       "      <td>Atendimento Educacional Especializado, Ativida...</td>\n",
       "      <td>-6.531554</td>\n",
       "      <td>-35.738744</td>\n",
       "    </tr>\n",
       "  </tbody>\n",
       "</table>\n",
       "</div>"
      ],
      "text/plain": [
       "                            Restrição de Atendimento           Escola  \\\n",
       "0  ESCOLA EM FUNCIONAMENTO E SEM RESTRIÇÃO DE ATE...  EMEF JOAO ALVES   \n",
       "\n",
       "   Código INEP  UF Município Localização  \\\n",
       "0     25000012  PB   Araruna      Urbana   \n",
       "\n",
       "                             Localidade Diferenciada Categoria Administrativa  \\\n",
       "0  A escola não está em área de localização difer...                  Pública   \n",
       "\n",
       "                                            Endereço        Telefone  \\\n",
       "0  RUA CORONEL PEDRO TARGINO, 264 CENTRO. 58233-0...  (83) 996051166   \n",
       "\n",
       "  Dependência Administrativa Categoria Escola Privada  \\\n",
       "0                  Municipal            Não Informado   \n",
       "\n",
       "  Conveniada Poder Público Regulamentação pelo Conselho de Educação  \\\n",
       "0                      Não                                      Sim   \n",
       "\n",
       "                                Porte da Escola  \\\n",
       "0  Entre 501 e 1000 matrículas de escolarização   \n",
       "\n",
       "         Etapas e Modalidade de Ensino Oferecidas  \\\n",
       "0  Ensino Fundamental, Educação de Jovens Adultos   \n",
       "\n",
       "                         Outras Ofertas Educacionais  Latitude  Longitude  \n",
       "0  Atendimento Educacional Especializado, Ativida... -6.531554 -35.738744  "
      ]
     },
     "execution_count": 14,
     "metadata": {},
     "output_type": "execute_result"
    }
   ],
   "source": [
    "df_escolas.head(1)"
   ]
  },
  {
   "cell_type": "code",
   "execution_count": 15,
   "metadata": {},
   "outputs": [
    {
     "data": {
      "text/plain": [
       "Categoria Administrativa\n",
       "Pública    81.0\n",
       "Privada    19.0\n",
       "Name: proportion, dtype: float64"
      ]
     },
     "execution_count": 15,
     "metadata": {},
     "output_type": "execute_result"
    }
   ],
   "source": [
    "df_escolas['Categoria Administrativa'].value_counts(normalize=True).round(3)*100"
   ]
  },
  {
   "cell_type": "code",
   "execution_count": 22,
   "metadata": {},
   "outputs": [
    {
     "name": "stdout",
     "output_type": "stream",
     "text": [
      "Dependência Administrativa\n",
      "Municipal    66.88\n",
      "Privada      18.97\n",
      "Estadual     13.60\n",
      "Federal       0.55\n",
      "Name: proportion, dtype: float64\n"
     ]
    }
   ],
   "source": [
    "print(f\"{df_escolas['Dependência Administrativa'].value_counts(normalize=True).round(4)*100}\")"
   ]
  },
  {
   "cell_type": "code",
   "execution_count": 21,
   "metadata": {},
   "outputs": [
    {
     "name": "stdout",
     "output_type": "stream",
     "text": [
      "Dependência Administrativa  Localização\n",
      "Municipal                   Rural          36.48\n",
      "                            Urbana         30.40\n",
      "Privada                     Urbana         18.86\n",
      "Estadual                    Urbana         12.06\n",
      "                            Rural           1.54\n",
      "Federal                     Urbana          0.53\n",
      "Privada                     Rural           0.11\n",
      "Federal                     Rural           0.02\n",
      "Name: proportion, dtype: float64\n"
     ]
    }
   ],
   "source": [
    "print(f\"{df_escolas[['Dependência Administrativa','Localização']].value_counts(normalize=True).round(4)*100}\")"
   ]
  },
  {
   "cell_type": "code",
   "execution_count": 18,
   "metadata": {},
   "outputs": [
    {
     "data": {
      "text/plain": [
       "644"
      ]
     },
     "execution_count": 18,
     "metadata": {},
     "output_type": "execute_result"
    }
   ],
   "source": [
    "df_escolas.loc[df_escolas['Dependência Administrativa'] == 'Estadual']['Escola'].count()"
   ]
  },
  {
   "cell_type": "code",
   "execution_count": 28,
   "metadata": {},
   "outputs": [
    {
     "name": "stderr",
     "output_type": "stream",
     "text": [
      "C:\\Users\\rivaldoj\\AppData\\Local\\Temp\\ipykernel_8488\\3613622224.py:1: DtypeWarning: Columns (27) have mixed types. Specify dtype option on import or set low_memory=False.\n",
      "  df_escolas = pd.read_csv('./microdados_ed_basica_2020/dados/microdados_ed_basica_2020.CSV', sep=';',  encoding='latin-1')\n"
     ]
    }
   ],
   "source": [
    "df_escolas = pd.read_csv('./microdados_ed_basica_2020/dados/microdados_ed_basica_2020.CSV', sep=';',  encoding='latin-1')"
   ]
  },
  {
   "cell_type": "code",
   "execution_count": 38,
   "metadata": {},
   "outputs": [
    {
     "data": {
      "text/html": [
       "<div>\n",
       "<style scoped>\n",
       "    .dataframe tbody tr th:only-of-type {\n",
       "        vertical-align: middle;\n",
       "    }\n",
       "\n",
       "    .dataframe tbody tr th {\n",
       "        vertical-align: top;\n",
       "    }\n",
       "\n",
       "    .dataframe thead th {\n",
       "        text-align: right;\n",
       "    }\n",
       "</style>\n",
       "<table border=\"1\" class=\"dataframe\">\n",
       "  <thead>\n",
       "    <tr style=\"text-align: right;\">\n",
       "      <th></th>\n",
       "      <th>NU_ANO_CENSO</th>\n",
       "      <th>NO_REGIAO</th>\n",
       "      <th>CO_REGIAO</th>\n",
       "      <th>NO_UF</th>\n",
       "      <th>SG_UF</th>\n",
       "      <th>CO_UF</th>\n",
       "      <th>NO_MUNICIPIO</th>\n",
       "      <th>CO_MUNICIPIO</th>\n",
       "      <th>NO_MESORREGIAO</th>\n",
       "      <th>CO_MESORREGIAO</th>\n",
       "      <th>...</th>\n",
       "      <th>QT_TUR_FUND_AF</th>\n",
       "      <th>QT_TUR_MED</th>\n",
       "      <th>QT_TUR_PROF</th>\n",
       "      <th>QT_TUR_PROF_TEC</th>\n",
       "      <th>QT_TUR_EJA</th>\n",
       "      <th>QT_TUR_EJA_FUND</th>\n",
       "      <th>QT_TUR_EJA_MED</th>\n",
       "      <th>QT_TUR_ESP</th>\n",
       "      <th>QT_TUR_ESP_CC</th>\n",
       "      <th>QT_TUR_ESP_CE</th>\n",
       "    </tr>\n",
       "  </thead>\n",
       "  <tbody>\n",
       "    <tr>\n",
       "      <th>0</th>\n",
       "      <td>2020</td>\n",
       "      <td>Norte</td>\n",
       "      <td>1</td>\n",
       "      <td>Rondônia</td>\n",
       "      <td>RO</td>\n",
       "      <td>11</td>\n",
       "      <td>Alta Floresta D'Oeste</td>\n",
       "      <td>1100015</td>\n",
       "      <td>Leste Rondoniense</td>\n",
       "      <td>1102</td>\n",
       "      <td>...</td>\n",
       "      <td>0</td>\n",
       "      <td>0</td>\n",
       "      <td>0</td>\n",
       "      <td>0</td>\n",
       "      <td>0</td>\n",
       "      <td>0</td>\n",
       "      <td>0</td>\n",
       "      <td>0</td>\n",
       "      <td>0</td>\n",
       "      <td>0</td>\n",
       "    </tr>\n",
       "    <tr>\n",
       "      <th>1</th>\n",
       "      <td>2020</td>\n",
       "      <td>Norte</td>\n",
       "      <td>1</td>\n",
       "      <td>Rondônia</td>\n",
       "      <td>RO</td>\n",
       "      <td>11</td>\n",
       "      <td>Alta Floresta D'Oeste</td>\n",
       "      <td>1100015</td>\n",
       "      <td>Leste Rondoniense</td>\n",
       "      <td>1102</td>\n",
       "      <td>...</td>\n",
       "      <td>0</td>\n",
       "      <td>0</td>\n",
       "      <td>0</td>\n",
       "      <td>0</td>\n",
       "      <td>12</td>\n",
       "      <td>6</td>\n",
       "      <td>6</td>\n",
       "      <td>3</td>\n",
       "      <td>3</td>\n",
       "      <td>0</td>\n",
       "    </tr>\n",
       "    <tr>\n",
       "      <th>2</th>\n",
       "      <td>2020</td>\n",
       "      <td>Norte</td>\n",
       "      <td>1</td>\n",
       "      <td>Rondônia</td>\n",
       "      <td>RO</td>\n",
       "      <td>11</td>\n",
       "      <td>Alta Floresta D'Oeste</td>\n",
       "      <td>1100015</td>\n",
       "      <td>Leste Rondoniense</td>\n",
       "      <td>1102</td>\n",
       "      <td>...</td>\n",
       "      <td>1</td>\n",
       "      <td>0</td>\n",
       "      <td>0</td>\n",
       "      <td>0</td>\n",
       "      <td>0</td>\n",
       "      <td>0</td>\n",
       "      <td>0</td>\n",
       "      <td>1</td>\n",
       "      <td>1</td>\n",
       "      <td>0</td>\n",
       "    </tr>\n",
       "    <tr>\n",
       "      <th>3</th>\n",
       "      <td>2020</td>\n",
       "      <td>Norte</td>\n",
       "      <td>1</td>\n",
       "      <td>Rondônia</td>\n",
       "      <td>RO</td>\n",
       "      <td>11</td>\n",
       "      <td>Alta Floresta D'Oeste</td>\n",
       "      <td>1100015</td>\n",
       "      <td>Leste Rondoniense</td>\n",
       "      <td>1102</td>\n",
       "      <td>...</td>\n",
       "      <td>5</td>\n",
       "      <td>0</td>\n",
       "      <td>0</td>\n",
       "      <td>0</td>\n",
       "      <td>0</td>\n",
       "      <td>0</td>\n",
       "      <td>0</td>\n",
       "      <td>3</td>\n",
       "      <td>3</td>\n",
       "      <td>0</td>\n",
       "    </tr>\n",
       "    <tr>\n",
       "      <th>4</th>\n",
       "      <td>2020</td>\n",
       "      <td>Norte</td>\n",
       "      <td>1</td>\n",
       "      <td>Rondônia</td>\n",
       "      <td>RO</td>\n",
       "      <td>11</td>\n",
       "      <td>Alta Floresta D'Oeste</td>\n",
       "      <td>1100015</td>\n",
       "      <td>Leste Rondoniense</td>\n",
       "      <td>1102</td>\n",
       "      <td>...</td>\n",
       "      <td>0</td>\n",
       "      <td>0</td>\n",
       "      <td>0</td>\n",
       "      <td>0</td>\n",
       "      <td>0</td>\n",
       "      <td>0</td>\n",
       "      <td>0</td>\n",
       "      <td>0</td>\n",
       "      <td>0</td>\n",
       "      <td>0</td>\n",
       "    </tr>\n",
       "    <tr>\n",
       "      <th>...</th>\n",
       "      <td>...</td>\n",
       "      <td>...</td>\n",
       "      <td>...</td>\n",
       "      <td>...</td>\n",
       "      <td>...</td>\n",
       "      <td>...</td>\n",
       "      <td>...</td>\n",
       "      <td>...</td>\n",
       "      <td>...</td>\n",
       "      <td>...</td>\n",
       "      <td>...</td>\n",
       "      <td>...</td>\n",
       "      <td>...</td>\n",
       "      <td>...</td>\n",
       "      <td>...</td>\n",
       "      <td>...</td>\n",
       "      <td>...</td>\n",
       "      <td>...</td>\n",
       "      <td>...</td>\n",
       "      <td>...</td>\n",
       "      <td>...</td>\n",
       "    </tr>\n",
       "    <tr>\n",
       "      <th>224224</th>\n",
       "      <td>2020</td>\n",
       "      <td>Centro-Oeste</td>\n",
       "      <td>5</td>\n",
       "      <td>Distrito Federal</td>\n",
       "      <td>DF</td>\n",
       "      <td>53</td>\n",
       "      <td>Brasília</td>\n",
       "      <td>5300108</td>\n",
       "      <td>Distrito Federal</td>\n",
       "      <td>5301</td>\n",
       "      <td>...</td>\n",
       "      <td>0</td>\n",
       "      <td>0</td>\n",
       "      <td>0</td>\n",
       "      <td>0</td>\n",
       "      <td>0</td>\n",
       "      <td>0</td>\n",
       "      <td>0</td>\n",
       "      <td>0</td>\n",
       "      <td>0</td>\n",
       "      <td>0</td>\n",
       "    </tr>\n",
       "    <tr>\n",
       "      <th>224225</th>\n",
       "      <td>2020</td>\n",
       "      <td>Centro-Oeste</td>\n",
       "      <td>5</td>\n",
       "      <td>Distrito Federal</td>\n",
       "      <td>DF</td>\n",
       "      <td>53</td>\n",
       "      <td>Brasília</td>\n",
       "      <td>5300108</td>\n",
       "      <td>Distrito Federal</td>\n",
       "      <td>5301</td>\n",
       "      <td>...</td>\n",
       "      <td>0</td>\n",
       "      <td>0</td>\n",
       "      <td>0</td>\n",
       "      <td>0</td>\n",
       "      <td>0</td>\n",
       "      <td>0</td>\n",
       "      <td>0</td>\n",
       "      <td>5</td>\n",
       "      <td>5</td>\n",
       "      <td>0</td>\n",
       "    </tr>\n",
       "    <tr>\n",
       "      <th>224226</th>\n",
       "      <td>2020</td>\n",
       "      <td>Centro-Oeste</td>\n",
       "      <td>5</td>\n",
       "      <td>Distrito Federal</td>\n",
       "      <td>DF</td>\n",
       "      <td>53</td>\n",
       "      <td>Brasília</td>\n",
       "      <td>5300108</td>\n",
       "      <td>Distrito Federal</td>\n",
       "      <td>5301</td>\n",
       "      <td>...</td>\n",
       "      <td>2</td>\n",
       "      <td>4</td>\n",
       "      <td>0</td>\n",
       "      <td>0</td>\n",
       "      <td>0</td>\n",
       "      <td>0</td>\n",
       "      <td>0</td>\n",
       "      <td>1</td>\n",
       "      <td>1</td>\n",
       "      <td>0</td>\n",
       "    </tr>\n",
       "    <tr>\n",
       "      <th>224227</th>\n",
       "      <td>2020</td>\n",
       "      <td>Centro-Oeste</td>\n",
       "      <td>5</td>\n",
       "      <td>Distrito Federal</td>\n",
       "      <td>DF</td>\n",
       "      <td>53</td>\n",
       "      <td>Brasília</td>\n",
       "      <td>5300108</td>\n",
       "      <td>Distrito Federal</td>\n",
       "      <td>5301</td>\n",
       "      <td>...</td>\n",
       "      <td>0</td>\n",
       "      <td>0</td>\n",
       "      <td>0</td>\n",
       "      <td>0</td>\n",
       "      <td>0</td>\n",
       "      <td>0</td>\n",
       "      <td>0</td>\n",
       "      <td>0</td>\n",
       "      <td>0</td>\n",
       "      <td>0</td>\n",
       "    </tr>\n",
       "    <tr>\n",
       "      <th>224228</th>\n",
       "      <td>2020</td>\n",
       "      <td>Centro-Oeste</td>\n",
       "      <td>5</td>\n",
       "      <td>Distrito Federal</td>\n",
       "      <td>DF</td>\n",
       "      <td>53</td>\n",
       "      <td>Brasília</td>\n",
       "      <td>5300108</td>\n",
       "      <td>Distrito Federal</td>\n",
       "      <td>5301</td>\n",
       "      <td>...</td>\n",
       "      <td>0</td>\n",
       "      <td>0</td>\n",
       "      <td>0</td>\n",
       "      <td>0</td>\n",
       "      <td>0</td>\n",
       "      <td>0</td>\n",
       "      <td>0</td>\n",
       "      <td>0</td>\n",
       "      <td>0</td>\n",
       "      <td>0</td>\n",
       "    </tr>\n",
       "  </tbody>\n",
       "</table>\n",
       "<p>224229 rows × 370 columns</p>\n",
       "</div>"
      ],
      "text/plain": [
       "        NU_ANO_CENSO     NO_REGIAO  CO_REGIAO             NO_UF SG_UF  CO_UF  \\\n",
       "0               2020         Norte          1          Rondônia    RO     11   \n",
       "1               2020         Norte          1          Rondônia    RO     11   \n",
       "2               2020         Norte          1          Rondônia    RO     11   \n",
       "3               2020         Norte          1          Rondônia    RO     11   \n",
       "4               2020         Norte          1          Rondônia    RO     11   \n",
       "...              ...           ...        ...               ...   ...    ...   \n",
       "224224          2020  Centro-Oeste          5  Distrito Federal    DF     53   \n",
       "224225          2020  Centro-Oeste          5  Distrito Federal    DF     53   \n",
       "224226          2020  Centro-Oeste          5  Distrito Federal    DF     53   \n",
       "224227          2020  Centro-Oeste          5  Distrito Federal    DF     53   \n",
       "224228          2020  Centro-Oeste          5  Distrito Federal    DF     53   \n",
       "\n",
       "                 NO_MUNICIPIO  CO_MUNICIPIO     NO_MESORREGIAO  \\\n",
       "0       Alta Floresta D'Oeste       1100015  Leste Rondoniense   \n",
       "1       Alta Floresta D'Oeste       1100015  Leste Rondoniense   \n",
       "2       Alta Floresta D'Oeste       1100015  Leste Rondoniense   \n",
       "3       Alta Floresta D'Oeste       1100015  Leste Rondoniense   \n",
       "4       Alta Floresta D'Oeste       1100015  Leste Rondoniense   \n",
       "...                       ...           ...                ...   \n",
       "224224               Brasília       5300108   Distrito Federal   \n",
       "224225               Brasília       5300108   Distrito Federal   \n",
       "224226               Brasília       5300108   Distrito Federal   \n",
       "224227               Brasília       5300108   Distrito Federal   \n",
       "224228               Brasília       5300108   Distrito Federal   \n",
       "\n",
       "        CO_MESORREGIAO  ... QT_TUR_FUND_AF  QT_TUR_MED  QT_TUR_PROF  \\\n",
       "0                 1102  ...              0           0            0   \n",
       "1                 1102  ...              0           0            0   \n",
       "2                 1102  ...              1           0            0   \n",
       "3                 1102  ...              5           0            0   \n",
       "4                 1102  ...              0           0            0   \n",
       "...                ...  ...            ...         ...          ...   \n",
       "224224            5301  ...              0           0            0   \n",
       "224225            5301  ...              0           0            0   \n",
       "224226            5301  ...              2           4            0   \n",
       "224227            5301  ...              0           0            0   \n",
       "224228            5301  ...              0           0            0   \n",
       "\n",
       "        QT_TUR_PROF_TEC QT_TUR_EJA  QT_TUR_EJA_FUND  QT_TUR_EJA_MED  \\\n",
       "0                     0          0                0               0   \n",
       "1                     0         12                6               6   \n",
       "2                     0          0                0               0   \n",
       "3                     0          0                0               0   \n",
       "4                     0          0                0               0   \n",
       "...                 ...        ...              ...             ...   \n",
       "224224                0          0                0               0   \n",
       "224225                0          0                0               0   \n",
       "224226                0          0                0               0   \n",
       "224227                0          0                0               0   \n",
       "224228                0          0                0               0   \n",
       "\n",
       "        QT_TUR_ESP  QT_TUR_ESP_CC QT_TUR_ESP_CE  \n",
       "0                0              0             0  \n",
       "1                3              3             0  \n",
       "2                1              1             0  \n",
       "3                3              3             0  \n",
       "4                0              0             0  \n",
       "...            ...            ...           ...  \n",
       "224224           0              0             0  \n",
       "224225           5              5             0  \n",
       "224226           1              1             0  \n",
       "224227           0              0             0  \n",
       "224228           0              0             0  \n",
       "\n",
       "[224229 rows x 370 columns]"
      ]
     },
     "execution_count": 38,
     "metadata": {},
     "output_type": "execute_result"
    }
   ],
   "source": [
    "df_escolas\n"
   ]
  },
  {
   "cell_type": "code",
   "execution_count": 32,
   "metadata": {},
   "outputs": [
    {
     "data": {
      "text/plain": [
       "NU_ANO_CENSO       5777\n",
       "NO_REGIAO          5777\n",
       "CO_REGIAO          5777\n",
       "NO_UF              5777\n",
       "SG_UF              5777\n",
       "                   ... \n",
       "QT_TUR_EJA_FUND    5777\n",
       "QT_TUR_EJA_MED     5777\n",
       "QT_TUR_ESP         5777\n",
       "QT_TUR_ESP_CC      5777\n",
       "QT_TUR_ESP_CE      5777\n",
       "Length: 370, dtype: int64"
      ]
     },
     "execution_count": 32,
     "metadata": {},
     "output_type": "execute_result"
    }
   ],
   "source": [
    "df_escolas.loc[df_escolas['SG_UF'] == 'PB'].count()"
   ]
  }
 ],
 "metadata": {
  "kernelspec": {
   "display_name": "Python 3",
   "language": "python",
   "name": "python3"
  },
  "language_info": {
   "codemirror_mode": {
    "name": "ipython",
    "version": 3
   },
   "file_extension": ".py",
   "mimetype": "text/x-python",
   "name": "python",
   "nbconvert_exporter": "python",
   "pygments_lexer": "ipython3",
   "version": "3.11.4"
  },
  "orig_nbformat": 4
 },
 "nbformat": 4,
 "nbformat_minor": 2
}
